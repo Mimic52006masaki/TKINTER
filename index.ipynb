{
 "cells": [
  {
   "cell_type": "code",
   "execution_count": 3,
   "metadata": {},
   "outputs": [],
   "source": [
    "fruits = [\"りんご\", \"バナナ\", \"みかん\"]"
   ]
  },
  {
   "cell_type": "code",
   "execution_count": 5,
   "metadata": {},
   "outputs": [
    {
     "name": "stdout",
     "output_type": "stream",
     "text": [
      "りんご\n",
      "みかん\n"
     ]
    }
   ],
   "source": [
    "print(fruits[0])\n",
    "print(fruits[2])"
   ]
  },
  {
   "cell_type": "code",
   "execution_count": 7,
   "metadata": {},
   "outputs": [
    {
     "name": "stdout",
     "output_type": "stream",
     "text": [
      "['緑']\n"
     ]
    }
   ],
   "source": [
    "colors = [\"赤\", \"青\"]\n",
    "\n",
    "# 「緑」を追加する\n",
    "colors.append(\"緑\")\n",
    "\n",
    "# 最初の要素を削除する\n",
    "colors.pop(0)\n",
    "# 「青」を削除する\n",
    "colors.remove(\"青\")\n",
    "# 結果を表示\n",
    "print(colors)  # → [\"青\", \"緑\"]\n"
   ]
  },
  {
   "cell_type": "code",
   "execution_count": 8,
   "metadata": {},
   "outputs": [
    {
     "name": "stdout",
     "output_type": "stream",
     "text": [
      "犬\n",
      "猫\n",
      "鳥\n"
     ]
    }
   ],
   "source": [
    "animals = [\"犬\", \"猫\", \"鳥\"]\n",
    "for animal in animals:\n",
    "    print(animal)"
   ]
  },
  {
   "cell_type": "code",
   "execution_count": null,
   "metadata": {},
   "outputs": [
    {
     "name": "stdout",
     "output_type": "stream",
     "text": [
      "{'名前': '花子', '年齢': 18}\n"
     ]
    }
   ],
   "source": [
    "# ✅ 問題4：\n",
    "# 次の情報を辞書にして、リストにまとめてください。\n",
    "\n",
    "# 名前\t年齢\n",
    "# 太郎\t20歳\n",
    "# 花子\t18歳\n",
    "\n",
    "# リスト名は people とし、最後にその内容を print() してください。\n",
    "\n",
    "# ヒント：辞書の形は {\"名前\": 値, \"年齢\": 値} です。\n",
    "people = [{\"名前\": \"太郎\", \"年齢\":20},\n",
    "          {\"名前\": \"花子\", \"年齢\":18}]\n",
    "print(people[-1])"
   ]
  },
  {
   "cell_type": "code",
   "execution_count": 11,
   "metadata": {},
   "outputs": [
    {
     "name": "stdout",
     "output_type": "stream",
     "text": [
      "20\n"
     ]
    }
   ],
   "source": [
    "person = {\"名前\": \"太郎\", \"年齢\": 20}\n",
    "print(person[\"年齢\"])"
   ]
  },
  {
   "cell_type": "code",
   "execution_count": 12,
   "metadata": {},
   "outputs": [
    {
     "name": "stdout",
     "output_type": "stream",
     "text": [
      "私の名前は太郎、20歳です。\n",
      "私の名前は花子、18歳です。\n"
     ]
    }
   ],
   "source": [
    "people = [{\"名前\": \"太郎\", \"年齢\": 20}, {\"名前\": \"花子\", \"年齢\": 18}]\n",
    "for person in people:\n",
    "    print(f\"私の名前は{person['名前']}、{person['年齢']}歳です。\")"
   ]
  },
  {
   "cell_type": "code",
   "execution_count": 13,
   "metadata": {},
   "outputs": [
    {
     "name": "stdout",
     "output_type": "stream",
     "text": [
      "名前\n",
      "年齢\n"
     ]
    }
   ],
   "source": [
    "# ✅ 問題7：\n",
    "# 次の辞書を使って、全てのキー（「名前」と「年齢」）を表示してください。\n",
    "person = {\"名前\": \"太郎\", \"年齢\": 20}\n",
    "for key in person.keys():\n",
    "    print(key)"
   ]
  },
  {
   "cell_type": "code",
   "execution_count": 15,
   "metadata": {},
   "outputs": [
    {
     "name": "stdout",
     "output_type": "stream",
     "text": [
      "名前は太郎です。\n",
      "年齢は20です。\n"
     ]
    }
   ],
   "source": [
    "person = {\"名前\": \"太郎\", \"年齢\": 20}\n",
    "for key, value in person.items():\n",
    "    print(f\"{key}は{value}です。\")"
   ]
  },
  {
   "cell_type": "code",
   "execution_count": 32,
   "metadata": {},
   "outputs": [],
   "source": [
    "people = [\n",
    "    {\"名前\": \"太郎\", \"年齢\": 20},\n",
    "    {\"名前\": \"花子\", \"年齢\": 18},\n",
    "    {\"名前\": \"次郎\", \"年齢\": 25}\n",
    "]"
   ]
  },
  {
   "cell_type": "code",
   "execution_count": 33,
   "metadata": {},
   "outputs": [],
   "source": [
    "def get_age_by_name(name):\n",
    "    for person in people:\n",
    "        if person[\"名前\"] == name:\n",
    "            return person[\"年齢\"]\n",
    "    return \"該当する人がいません\""
   ]
  },
  {
   "cell_type": "code",
   "execution_count": 34,
   "metadata": {},
   "outputs": [
    {
     "name": "stdout",
     "output_type": "stream",
     "text": [
      "18\n",
      "25\n",
      "20\n"
     ]
    }
   ],
   "source": [
    "print(get_age_by_name(\"花子\"))  # 出力: 18\n",
    "print(get_age_by_name(\"次郎\"))  # 出力: 25\n",
    "print(get_age_by_name(\"太郎\"))  # 出力: 20\n"
   ]
  },
  {
   "cell_type": "code",
   "execution_count": 37,
   "metadata": {},
   "outputs": [
    {
     "name": "stdout",
     "output_type": "stream",
     "text": [
      "[{'名前': '太郎', '年齢': 20}, {'名前': '次郎', '年齢': 25}]\n"
     ]
    }
   ],
   "source": [
    "people = [\n",
    "    {\"名前\": \"太郎\", \"年齢\": 20},\n",
    "    {\"名前\": \"花子\", \"年齢\": 18},\n",
    "    {\"名前\": \"次郎\", \"年齢\": 25}\n",
    "]\n",
    "\n",
    "adults = [person for person in people if person[\"年齢\"] >= 20]\n",
    "print(adults)"
   ]
  },
  {
   "cell_type": "code",
   "execution_count": 65,
   "metadata": {},
   "outputs": [
    {
     "data": {
      "text/html": [
       "<div>\n",
       "<style scoped>\n",
       "    .dataframe tbody tr th:only-of-type {\n",
       "        vertical-align: middle;\n",
       "    }\n",
       "\n",
       "    .dataframe tbody tr th {\n",
       "        vertical-align: top;\n",
       "    }\n",
       "\n",
       "    .dataframe thead th {\n",
       "        text-align: right;\n",
       "    }\n",
       "</style>\n",
       "<table border=\"1\" class=\"dataframe\">\n",
       "  <thead>\n",
       "    <tr style=\"text-align: right;\">\n",
       "      <th></th>\n",
       "      <th>タイトル</th>\n",
       "      <th>価格</th>\n",
       "    </tr>\n",
       "  </thead>\n",
       "  <tbody>\n",
       "    <tr>\n",
       "      <th>0</th>\n",
       "      <td>A Light in the ...</td>\n",
       "      <td>£51.77</td>\n",
       "    </tr>\n",
       "    <tr>\n",
       "      <th>1</th>\n",
       "      <td>Tipping the Velvet</td>\n",
       "      <td>£53.74</td>\n",
       "    </tr>\n",
       "    <tr>\n",
       "      <th>2</th>\n",
       "      <td>Soumission</td>\n",
       "      <td>£50.10</td>\n",
       "    </tr>\n",
       "    <tr>\n",
       "      <th>3</th>\n",
       "      <td>Sharp Objects</td>\n",
       "      <td>£47.82</td>\n",
       "    </tr>\n",
       "    <tr>\n",
       "      <th>4</th>\n",
       "      <td>Sapiens: A Brief History ...</td>\n",
       "      <td>£54.23</td>\n",
       "    </tr>\n",
       "    <tr>\n",
       "      <th>5</th>\n",
       "      <td>The Requiem Red</td>\n",
       "      <td>£22.65</td>\n",
       "    </tr>\n",
       "    <tr>\n",
       "      <th>6</th>\n",
       "      <td>The Dirty Little Secrets ...</td>\n",
       "      <td>£33.34</td>\n",
       "    </tr>\n",
       "    <tr>\n",
       "      <th>7</th>\n",
       "      <td>The Coming Woman: A ...</td>\n",
       "      <td>£17.93</td>\n",
       "    </tr>\n",
       "    <tr>\n",
       "      <th>8</th>\n",
       "      <td>The Boys in the ...</td>\n",
       "      <td>£22.60</td>\n",
       "    </tr>\n",
       "    <tr>\n",
       "      <th>9</th>\n",
       "      <td>The Black Maria</td>\n",
       "      <td>£52.15</td>\n",
       "    </tr>\n",
       "    <tr>\n",
       "      <th>10</th>\n",
       "      <td>Starving Hearts (Triangular Trade ...</td>\n",
       "      <td>£13.99</td>\n",
       "    </tr>\n",
       "    <tr>\n",
       "      <th>11</th>\n",
       "      <td>Shakespeare's Sonnets</td>\n",
       "      <td>£20.66</td>\n",
       "    </tr>\n",
       "    <tr>\n",
       "      <th>12</th>\n",
       "      <td>Set Me Free</td>\n",
       "      <td>£17.46</td>\n",
       "    </tr>\n",
       "    <tr>\n",
       "      <th>13</th>\n",
       "      <td>Scott Pilgrim's Precious Little ...</td>\n",
       "      <td>£52.29</td>\n",
       "    </tr>\n",
       "    <tr>\n",
       "      <th>14</th>\n",
       "      <td>Rip it Up and ...</td>\n",
       "      <td>£35.02</td>\n",
       "    </tr>\n",
       "    <tr>\n",
       "      <th>15</th>\n",
       "      <td>Our Band Could Be ...</td>\n",
       "      <td>£57.25</td>\n",
       "    </tr>\n",
       "    <tr>\n",
       "      <th>16</th>\n",
       "      <td>Olio</td>\n",
       "      <td>£23.88</td>\n",
       "    </tr>\n",
       "    <tr>\n",
       "      <th>17</th>\n",
       "      <td>Mesaerion: The Best Science ...</td>\n",
       "      <td>£37.59</td>\n",
       "    </tr>\n",
       "    <tr>\n",
       "      <th>18</th>\n",
       "      <td>Libertarianism for Beginners</td>\n",
       "      <td>£51.33</td>\n",
       "    </tr>\n",
       "    <tr>\n",
       "      <th>19</th>\n",
       "      <td>It's Only the Himalayas</td>\n",
       "      <td>£45.17</td>\n",
       "    </tr>\n",
       "  </tbody>\n",
       "</table>\n",
       "</div>"
      ],
      "text/plain": [
       "                                     タイトル      価格\n",
       "0                      A Light in the ...  £51.77\n",
       "1                      Tipping the Velvet  £53.74\n",
       "2                              Soumission  £50.10\n",
       "3                           Sharp Objects  £47.82\n",
       "4            Sapiens: A Brief History ...  £54.23\n",
       "5                         The Requiem Red  £22.65\n",
       "6            The Dirty Little Secrets ...  £33.34\n",
       "7                 The Coming Woman: A ...  £17.93\n",
       "8                     The Boys in the ...  £22.60\n",
       "9                         The Black Maria  £52.15\n",
       "10  Starving Hearts (Triangular Trade ...  £13.99\n",
       "11                  Shakespeare's Sonnets  £20.66\n",
       "12                            Set Me Free  £17.46\n",
       "13    Scott Pilgrim's Precious Little ...  £52.29\n",
       "14                      Rip it Up and ...  £35.02\n",
       "15                  Our Band Could Be ...  £57.25\n",
       "16                                   Olio  £23.88\n",
       "17        Mesaerion: The Best Science ...  £37.59\n",
       "18           Libertarianism for Beginners  £51.33\n",
       "19                It's Only the Himalayas  £45.17"
      ]
     },
     "execution_count": 65,
     "metadata": {},
     "output_type": "execute_result"
    }
   ],
   "source": [
    "from bs4 import BeautifulSoup\n",
    "import requests\n",
    "import pandas as pd\n",
    "\n",
    "url = \"https://books.toscrape.com/\"\n",
    "\n",
    "res = requests.get(url)\n",
    "\n",
    "soup = BeautifulSoup(res.content, 'html.parser')\n",
    "\n",
    "lists = soup.find_all('li', attrs=('class', 'col-lg-3'))\n",
    "data = []\n",
    "for list in lists:\n",
    "    title = list.find('h3').text\n",
    "    price = list.find('p', attrs=('class', 'price_color')).text\n",
    "    books = {\n",
    "        \"タイトル\": title,\n",
    "        \"価格\": price\n",
    "    }\n",
    "    data.append(books)\n",
    "    \n",
    "df = pd.DataFrame(data)\n",
    "df"
   ]
  },
  {
   "cell_type": "code",
   "execution_count": null,
   "metadata": {},
   "outputs": [],
   "source": []
  }
 ],
 "metadata": {
  "kernelspec": {
   "display_name": "Python (env)",
   "language": "python",
   "name": "env"
  },
  "language_info": {
   "codemirror_mode": {
    "name": "ipython",
    "version": 3
   },
   "file_extension": ".py",
   "mimetype": "text/x-python",
   "name": "python",
   "nbconvert_exporter": "python",
   "pygments_lexer": "ipython3",
   "version": "3.11.5"
  },
  "orig_nbformat": 4,
  "vscode": {
   "interpreter": {
    "hash": "1e656543c1772df4b0b03742fdc74a5bb77e1fee8d2604d2795eb7a9885e62a2"
   }
  }
 },
 "nbformat": 4,
 "nbformat_minor": 2
}
