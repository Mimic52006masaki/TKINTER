{
 "cells": [
  {
   "cell_type": "code",
   "execution_count": 1,
   "metadata": {},
   "outputs": [
    {
     "name": "stderr",
     "output_type": "stream",
     "text": [
      "/var/folders/7g/x7vmxdmx1p556h61blyys4bm0000gp/T/ipykernel_71920/3931189169.py:77: DeprecationWarning: The order of arguments in worksheet.update() has changed. Please pass values first and range_name secondor used named arguments (range_name=, values=)\n",
      "  worksheet.update(range_str, data_with_blanks)\n"
     ]
    },
    {
     "name": "stdout",
     "output_type": "stream",
     "text": [
      "新しいデータがスプレッドシートにA2から書き込まれました。\n"
     ]
    }
   ],
   "source": [
    "import tkinter as tk\n",
    "from tkinter import messagebox\n",
    "from tkinter import ttk\n",
    "import gspread\n",
    "from oauth2client.service_account import ServiceAccountCredentials\n",
    "import requests\n",
    "from bs4 import BeautifulSoup\n",
    "\n",
    "# スプレッドシートに書き込む\n",
    "\n",
    "# 認証情報ファイルのパス\n",
    "CREDENTIAL_FILE_PATH = '/Users/masaki/Desktop/【json】/gspread-test-408312-2072e3277dcd.json'\n",
    "\n",
    "# スプレッドシートのキー\n",
    "SPREADSHEET_KEY = '1mF2nBRBPxeYog7YnBFy-1QNxDmjwUl5O2ZhqB6y7_Qw'\n",
    "\n",
    "# 認証情報の取得\n",
    "credentials = ServiceAccountCredentials.from_json_keyfile_name(CREDENTIAL_FILE_PATH)\n",
    "\n",
    "# スプレッドシートのオープン\n",
    "gc = gspread.authorize(credentials)\n",
    "sh = gc.open_by_key(SPREADSHEET_KEY)\n",
    "\n",
    "# ワークシートの取得\n",
    "worksheet = sh.worksheet('Billboard')\n",
    "\n",
    "# Billboardのウェブページからデータを取得\n",
    "url = 'https://www.billboard.com/charts/hot-100/'\n",
    "res = requests.get(url)\n",
    "soup = BeautifulSoup(res.text, 'html.parser')\n",
    "\n",
    "# チャートの結果を取得\n",
    "chart_results = soup.find_all('div', attrs={'class': 'o-chart-results-list-row-container'})\n",
    "\n",
    "# データを格納するリスト\n",
    "data_list = []\n",
    "\n",
    "for chart_result in chart_results:\n",
    "    # 順位を取得\n",
    "    rank = chart_result.find_all('span', attrs={'class': 'c-label'})[0].text.strip()\n",
    "    rank = int(rank)\n",
    "\n",
    "    # タイトルを取得\n",
    "    title = chart_result.find_all('h3', attrs={'class': 'c-title'})[0].text.strip()\n",
    "\n",
    "    # アーティスト名を取得\n",
    "    artist_name = chart_result.find_all('span', class_='a-no-trucate')[0].text.strip()\n",
    "\n",
    "    # 先週の順位を取得\n",
    "    lastWeek = chart_result.find_all('span', class_='c-label')[2].text.strip()\n",
    "\n",
    "    # データをリストに追加\n",
    "    data_list.append([rank, title, artist_name, lastWeek])\n",
    "\n",
    "# 空白行の数\n",
    "num_blank_rows = 5\n",
    "\n",
    "# 空白行を追加するための空のリストを作成\n",
    "blank_rows = [[''] * len(data_list[0])] * num_blank_rows\n",
    "\n",
    "# 空白行とデータを結合\n",
    "data_with_blanks = blank_rows + data_list\n",
    "\n",
    "# A2 から書き込む準備\n",
    "start_row = 2  # A2\n",
    "start_col = 1  # A列\n",
    "total_rows = len(data_with_blanks)\n",
    "total_cols = len(data_with_blanks[0])  # 例: 4列\n",
    "\n",
    "# 終了セルの列番号を文字に変換（例：D）\n",
    "end_col_letter = chr(ord('A') + total_cols - 1)\n",
    "end_row_number = start_row + total_rows - 1\n",
    "\n",
    "range_str = f'A{start_row}:{end_col_letter}{end_row_number}'\n",
    "\n",
    "# A2から空白行込みのデータを一括更新\n",
    "worksheet.update(range_str, data_with_blanks)\n",
    "\n",
    "print(\"新しいデータがスプレッドシートにA2から書き込まれました。\")\n"
   ]
  },
  {
   "cell_type": "code",
   "execution_count": null,
   "metadata": {},
   "outputs": [],
   "source": []
  }
 ],
 "metadata": {
  "kernelspec": {
   "display_name": "base",
   "language": "python",
   "name": "python3"
  },
  "language_info": {
   "codemirror_mode": {
    "name": "ipython",
    "version": 3
   },
   "file_extension": ".py",
   "mimetype": "text/x-python",
   "name": "python",
   "nbconvert_exporter": "python",
   "pygments_lexer": "ipython3",
   "version": "3.11.5"
  },
  "orig_nbformat": 4
 },
 "nbformat": 4,
 "nbformat_minor": 2
}
