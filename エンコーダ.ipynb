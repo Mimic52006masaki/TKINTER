{
 "cells": [
  {
   "cell_type": "code",
   "execution_count": null,
   "metadata": {},
   "outputs": [
    {
     "ename": "",
     "evalue": "",
     "output_type": "error",
     "traceback": [
      "\u001b[1;31mカーネルを起動できませんでした。 \n",
      "Traceback (most recent call last):\n",
      "  File \"/Users/masaki/anaconda3/lib/python3.11/site-packages/notebook/traittypes.py\", line 235, in _resolve_classes\n",
      "    klass = self._resolve_string(klass)\n",
      "            ^^^^^^^^^^^^^^^^^^^^^^^^^^^\n",
      "  File \"/Users/masaki/anaconda3/lib/python3.11/site-packages/traitlets/traitlets.py\", line 2015, in _resolve_string\n",
      "    return import_item(string)\n",
      "           ^^^^^^^^^^^^^^^^^^^\n",
      "  File \"/Users/masaki/anaconda3/lib/python3.11/site-packages/traitlets/utils/importstring.py\", line 33, in import_item\n",
      "    module = __import__(package, fromlist=[obj])\n",
      "             ^^^^^^^^^^^^^^^^^^^^^^^^^^^^^^^^^^^\n",
      "ModuleNotFoundError: No module named 'jupyter_server.contents'\n",
      "\n",
      "During handling of the above exception, another exception occurred:\n",
      "\n",
      "Traceback (most recent call last):\n",
      "  File \"/Users/masaki/.vscode/extensions/ms-toolsai.jupyter-2022.6.1201981810/pythonFiles/vscode_datascience_helpers/daemon/daemon_python.py\", line 54, in _decorator\n",
      "    return func(self, *args, **kwargs)\n",
      "           ^^^^^^^^^^^^^^^^^^^^^^^^^^^\n",
      "  File \"/Users/masaki/.vscode/extensions/ms-toolsai.jupyter-2022.6.1201981810/pythonFiles/vscode_datascience_helpers/jupyter_daemon.py\", line 111, in m_exec_module_observable\n",
      "    self._start_notebook(args, cwd, env)\n",
      "  File \"/Users/masaki/.vscode/extensions/ms-toolsai.jupyter-2022.6.1201981810/pythonFiles/vscode_datascience_helpers/jupyter_daemon.py\", line 168, in _start_notebook\n",
      "    app.launch_new_instance()\n",
      "  File \"/Users/masaki/anaconda3/lib/python3.11/site-packages/jupyter_core/application.py\", line 283, in launch_instance\n",
      "    super().launch_instance(argv=argv, **kwargs)\n",
      "  File \"/Users/masaki/anaconda3/lib/python3.11/site-packages/traitlets/config/application.py\", line 1073, in launch_instance\n",
      "    app = cls.instance(**kwargs)\n",
      "          ^^^^^^^^^^^^^^^^^^^^^^\n",
      "  File \"/Users/masaki/anaconda3/lib/python3.11/site-packages/traitlets/config/configurable.py\", line 583, in instance\n",
      "    inst = cls(*args, **kwargs)\n",
      "           ^^^^^^^^^^^^^^^^^^^^\n",
      "  File \"/Users/masaki/anaconda3/lib/python3.11/site-packages/traitlets/traitlets.py\", line 1292, in __new__\n",
      "    inst.setup_instance(*args, **kwargs)\n",
      "  File \"/Users/masaki/anaconda3/lib/python3.11/site-packages/traitlets/traitlets.py\", line 1335, in setup_instance\n",
      "    super(HasTraits, self).setup_instance(*args, **kwargs)\n",
      "  File \"/Users/masaki/anaconda3/lib/python3.11/site-packages/traitlets/traitlets.py\", line 1311, in setup_instance\n",
      "    init(self)\n",
      "  File \"/Users/masaki/anaconda3/lib/python3.11/site-packages/notebook/traittypes.py\", line 226, in instance_init\n",
      "    self._resolve_classes()\n",
      "  File \"/Users/masaki/anaconda3/lib/python3.11/site-packages/notebook/traittypes.py\", line 238, in _resolve_classes\n",
      "    warn(f\"{klass} is not importable. Is it installed?\", ImportWarning)\n",
      "TypeError: warn() missing 1 required keyword-only argument: 'stacklevel'\n",
      "\n",
      "Failed to run jupyter as observable with args notebook --no-browser --notebook-dir=\"/Users/masaki/Desktop/エンコーダ\" --config=/var/folders/7g/x7vmxdmx1p556h61blyys4bm0000gp/T/00f39d68-ad1f-4692-ab0d-81058a6d6296/jupyter_notebook_config.py --NotebookApp.iopub_data_rate_limit=10000000000.0. \n",
      "詳細については、Jupyter [ログ] (command:jupyter.viewOutput) を参照してください。"
     ]
    }
   ],
   "source": [
    "import os\n",
    "import cv2\n",
    "from PIL import Image\n",
    "\n",
    "# 変換対象のフォルダ\n",
    "folder_path = '/Users/masaki/Desktop/5:24'\n",
    "\n",
    "# 対象拡張子のリスト\n",
    "target_extensions = ['.png', '.webp', '.gif']\n",
    "\n",
    "# フォルダ内のファイル一覧を取得・ソート\n",
    "files = sorted(os.listdir(folder_path))\n",
    "\n",
    "for file_name in files:\n",
    "    file_lower = file_name.lower()\n",
    "    ext = os.path.splitext(file_lower)[1]\n",
    "\n",
    "    if ext in target_extensions:\n",
    "        file_path = os.path.join(folder_path, file_name)\n",
    "        new_file_path = os.path.join(folder_path, os.path.splitext(file_name)[0] + '.jpg')\n",
    "\n",
    "        try:\n",
    "            if ext in ['.png', '.webp']:\n",
    "                # OpenCVで読み込み＆JPGで保存\n",
    "                image = cv2.imread(file_path)\n",
    "                if image is not None:\n",
    "                    cv2.imwrite(new_file_path, image)\n",
    "                else:\n",
    "                    print(f\"OpenCVで読み込めませんでした: {file_name}\")\n",
    "\n",
    "            elif ext == '.gif':\n",
    "                # PILで読み込み＆JPGで保存（RGB変換）\n",
    "                with Image.open(file_path) as im:\n",
    "                    rgb_im = im.convert('RGB')\n",
    "                    rgb_im.save(new_file_path, 'JPEG')\n",
    "\n",
    "            # 元のファイルを削除\n",
    "            os.remove(file_path)\n",
    "            print(f\"{file_name} → JPG変換＆削除完了\")\n",
    "\n",
    "        except Exception as e:\n",
    "            print(f\"変換中にエラーが発生しました: {file_name}, エラー: {e}\")\n"
   ]
  },
  {
   "cell_type": "code",
   "execution_count": null,
   "metadata": {},
   "outputs": [],
   "source": []
  }
 ],
 "metadata": {
  "kernelspec": {
   "display_name": "Python 3.11.5 ('enc_env': venv)",
   "language": "python",
   "name": "python3"
  },
  "language_info": {
   "name": "python",
   "version": "3.11.5"
  },
  "orig_nbformat": 4,
  "vscode": {
   "interpreter": {
    "hash": "1e656543c1772df4b0b03742fdc74a5bb77e1fee8d2604d2795eb7a9885e62a2"
   }
  }
 },
 "nbformat": 4,
 "nbformat_minor": 2
}
